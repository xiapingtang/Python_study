{
 "cells": [
  {
   "cell_type": "markdown",
   "metadata": {
    "collapsed": true
   },
   "source": [
    "## funtion"
   ]
  },
  {
   "cell_type": "code",
   "execution_count": 22,
   "metadata": {},
   "outputs": [
    {
     "name": "stdout",
     "output_type": "stream",
     "text": [
      "I'm\n",
      "\\Ok\t...\\\t\\\t...\\\\\\t\\\\\t...test\n",
      "of a\n",
      "and b\t...hello,\\n\n",
      "world!\t...123\n",
      "ABC 123\n"
     ]
    }
   ],
   "source": [
    "print ('I\\'m\\n\\\\Ok', end='\\t...')\n",
    "print ('\\\\\\t\\\\', end='\\t...')\n",
    "print (r'\\\\\\t\\\\', end='\\t...')\n",
    "print (\"\"\"test\n",
    "of a\n",
    "and b\"\"\", end='\\t...')\n",
    "print (r\"\"\"hello,\\n\n",
    "world!\"\"\", end='\\t...') \n",
    "a = 123 # a是整数\n",
    "print(a)\n",
    "b=a\n",
    "a = 'ABC' # a变为字符串\n",
    "print(a,b)"
   ]
  },
  {
   "cell_type": "code",
   "execution_count": 40,
   "metadata": {},
   "outputs": [
    {
     "name": "stdout",
     "output_type": "stream",
     "text": [
      "123 456.789 hello, world hellow, 'Adam' hellow,\"Bart\" hellow,\n",
      "Lisa!\n",
      "中文\n",
      "65 20013 B 文\n",
      "中文\n",
      "b'ABC' b'\\xe4\\xb8\\xad\\xe6\\x96\\x87'\n",
      "ABC 中文\n",
      "3 6\n"
     ]
    }
   ],
   "source": [
    "# -*- coding: utf-8 -*-\n",
    "\n",
    "n =123\n",
    "f =456.789\n",
    "s1 = 'hello, world'\n",
    "s2 = 'hello, \\'Adam\\''\n",
    "s3 = r'hello,\"Bart\"'\n",
    "s4 = r\"\"\"hello,\n",
    "Lisa!\"\"\"\n",
    "print(n,f,s1,s2,s3,s4)\n",
    "print(\"中文\")\n",
    "print (ord('A'), ord('中'), chr(66), chr(25991))\n",
    "print ('\\u4e2d\\u6587')\n",
    "x = 'ABC'\n",
    "print (x.encode('ascii'),'中文'.encode('UTF-8'))\n",
    "print (b'ABC'.decode('ascii'),b'\\xe4\\xb8\\xad\\xe6\\x96\\x87'.decode('UTF-8'))\n",
    "print (len('ABC'.encode('UTF-8')), len('中文'.encode('UTF-8')))"
   ]
  },
  {
   "cell_type": "code",
   "execution_count": 67,
   "metadata": {
    "scrolled": true
   },
   "outputs": [
    {
     "name": "stdout",
     "output_type": "stream",
     "text": [
      "hello, world !\n",
      "3.14\n",
      " 3 - 001\n",
      "growth rate: 10 %\n",
      "18.1 %\n",
      "2 1 1\n",
      "Apple Python Lisa\n",
      "birth: 10\n",
      "00前\n",
      "16.975308641975307\n",
      "Apple\n",
      "Google\n",
      "Microsoft\n"
     ]
    }
   ],
   "source": [
    "print ('hello, %s !'% 'world')\n",
    "print ('%.2f' % 3.1415926)\n",
    "print ('%2d - %03d' % (3, 1))\n",
    "print ('growth rate: %d %%' % 10)\n",
    "\n",
    "x = 85/72 -1\n",
    "print ('%.1f %%' % (100*x))\n",
    "a=b=c =1\n",
    "a =2\n",
    "print (a,b,c)\n",
    "\n",
    "L = [\n",
    "    ['Apple', 'Google', 'Microsoft'],\n",
    "    ['Java', 'Python', 'Ruby', 'PHP'],\n",
    "    ['Adam', 'Bart', 'Lisa']\n",
    "]\n",
    "print (L[0][0], L[1][1], L[2][2])\n",
    "    \n",
    "print (55/1.8**2)\n",
    "for name in L[0]:\n",
    "    print(name)"
   ]
  },
  {
   "cell_type": "code",
   "execution_count": 85,
   "metadata": {},
   "outputs": [
    {
     "name": "stdout",
     "output_type": "stream",
     "text": [
      "{'Michael': 95, 'Bob': 75, 'Tracy': 85}\n",
      "False None\n",
      "{'Michael': 95, 'Tracy': 85}\n",
      "{'Michael': 95, 'Tracy': 85, (1, 2, 3): ' a list'}\n",
      "set: {1, 2, 3, 4}\n",
      "{1, 2, 3, 4}\n",
      "{1, 2, 3} (1,)\n",
      "4496436840 abc 4535523064 Xbc\n",
      "Help on built-in function abs in module builtins:\n",
      "\n",
      "abs(x, /)\n",
      "    Return the absolute value of the argument.\n",
      "\n"
     ]
    }
   ],
   "source": [
    "d = {'Michael': 95, 'Bob': 75, 'Tracy': 85}\n",
    "print (d)\n",
    "print('Thomas' in d, d.get('Thomas'))\n",
    "d.pop('Bob')\n",
    "print (d)\n",
    "\n",
    "key = (1, 2, 3)\n",
    "d[key] = ' a list'\n",
    "print(d)\n",
    "\n",
    "s = set([1,2, 2, 3, 3, 3, 4])\n",
    "print('set:', s)\n",
    "s.add(4)\n",
    "print(s)\n",
    "s.remove(4)\n",
    "print(s, (1,))\n",
    "a ='abc'\n",
    "b =a.replace('a','X')\n",
    "print(id(a), a, id(b), b)\n",
    "help(abs)"
   ]
  },
  {
   "cell_type": "code",
   "execution_count": 101,
   "metadata": {},
   "outputs": [
    {
     "name": "stdout",
     "output_type": "stream",
     "text": [
      "0xff 0x3e8 ÿ Ϩ\n",
      "10\n",
      "quadratic(2, 3, 1) = (-0.5, -1.0)\n",
      "quadratic(1, 3, -4) = (1.0, -4.0)\n",
      "['END']\n",
      "['END', 'END']\n",
      "['END', 'END', 'END']\n",
      "['END', 'END', 'END', 'END', 'END', 'END'] ['END', 'END', 'END', 'END', 'END', 'END'] ['END', 'END', 'END', 'END', 'END', 'END']\n",
      "['END'] ['END'] ['END']\n"
     ]
    }
   ],
   "source": [
    "import math\n",
    "\n",
    "print (hex(255), hex(1000), chr(255), chr(1000))\n",
    "\n",
    "def my_abs(x):\n",
    "    if not isinstance(x, (int, float)):\n",
    "        raise TypeError('bad operand type')\n",
    "    \n",
    "    if x>0:\n",
    "        return x\n",
    "    else:\n",
    "        return -x\n",
    "print (my_abs(10))\n",
    "\n",
    "def quadratic(a, b, c):\n",
    "    if not isinstance(a, (int, float)):\n",
    "        raise TypeError('bad operand type')\n",
    "    if not isinstance(b, (int, float)):\n",
    "        raise TypeError('bad operand type')\n",
    "    if not isinstance(c, (int, float)):\n",
    "        raise TypeError('bad operand type')\n",
    "    \n",
    "    return (-b+math.sqrt(b*b-4*a*c))/2./a, (-b-math.sqrt(b*b-4*a*c))/2./a\n",
    "\n",
    "print('quadratic(2, 3, 1) =', quadratic(2, 3, 1))\n",
    "print('quadratic(1, 3, -4) =', quadratic(1, 3, -4))\n",
    "\n",
    "def add_end(L=[]):\n",
    "    L.append('END')\n",
    "    return L\n",
    "print (add_end())\n",
    "print (add_end())\n",
    "print (add_end())\n",
    "print (add_end(), add_end(), add_end())\n",
    "\n",
    "def add_end_new(L=None):\n",
    "    if L is None:\n",
    "        L = []\n",
    "    L.append('END')\n",
    "    return L\n",
    "print (add_end_new(), add_end_new(), add_end_new())"
   ]
  },
  {
   "cell_type": "code",
   "execution_count": 120,
   "metadata": {},
   "outputs": [
    {
     "name": "stdout",
     "output_type": "stream",
     "text": [
      "6 0\n",
      "name: Mike age: 35 other: {}\n",
      "name: Mike age: 35 other: {'gender': 'M', 'job': 'postdoc'}\n",
      "name: Mike age: 35 other: {'city': 'Beijing', 'job': 'Engineer'}\n",
      "name: Jack age: 24 other: {'city': 'Beijing', 'addr': 'Chaoyang', 'zipcode': 123456}\n",
      "Mike 35 tianjin postdoc\n",
      "a = 1 b = 2 c = 0 args = () kw = {}\n",
      "a = 1 b = 2 c = 3 args = () kw = {}\n",
      "a = 1 b = 2 c = 3 args = () kw = {}\n",
      "a = 1 b = 2 c = 3 args = ('a', 'b') kw = {'x': 99}\n",
      "a = 1 b = 2 c = 0 d = 99 kw = {'kw': {'abc': 123}}\n",
      "a = 1 b = 2 c = 3 args = () kw = {'d': 101, 'y': 'hello'}\n",
      "a = 1 b = 2 c = 3 d = 101 kw = {'y': 'hello'}\n",
      "product(5) = 5\n",
      "product(5, 6) = 30\n",
      "product(5, 6, 7) = 210\n",
      "product(5, 6, 7, 9) = 1890\n"
     ]
    }
   ],
   "source": [
    "def calc(*numbers):\n",
    "    s = 0 \n",
    "    for x in numbers:\n",
    "        s= s + x\n",
    "    return s\n",
    "print (calc(1,2,3), calc())\n",
    "\n",
    "def person(name, age, **kw):\n",
    "    print('name:', name, 'age:', age, 'other:', kw)\n",
    "\n",
    "person('Mike', 35)\n",
    "person('Mike', 35, gender='M', job='postdoc')\n",
    "extra = {'city': 'Beijing', 'job': 'Engineer'}\n",
    "person('Mike', 35, **extra)\n",
    "person('Jack', 24, city='Beijing', addr='Chaoyang', zipcode=123456)\n",
    "\n",
    "def new_person(name, age, *, city, job):\n",
    "    print(name, age, city, job)\n",
    "new_person('Mike', 35,city='tianjin', job='postdoc')\n",
    "\n",
    "def f1(a, b, c=0, *args, **kw):\n",
    "    print('a =', a, 'b =', b, 'c =', c, 'args =', args, 'kw =', kw)\n",
    "    \n",
    "def f2(a, b, c=0, *, d, **kw):\n",
    "    print('a =', a, 'b =', b, 'c =', c, 'd =', d, 'kw =', kw)\n",
    "    \n",
    "f1(1,2)\n",
    "f1(1,2, c=3)\n",
    "f1(1,2,3)\n",
    "f1(1,2,3, 'a', 'b', x=99)\n",
    "f2(1,2, d=99, kw={'abc':123})\n",
    "\n",
    "args = (1,2,3)\n",
    "kw = {'d':101, 'y':\"hello\"}\n",
    "f1(*args, **kw)\n",
    "f2(*args, **kw)\n",
    "\n",
    "def product(*args):\n",
    "    area = 1\n",
    "    for x in args:\n",
    "        area = x*area\n",
    "    return area\n",
    "print('product(5) =', product(5))\n",
    "print('product(5, 6) =', product(5, 6))\n",
    "print('product(5, 6, 7) =', product(5, 6, 7))\n",
    "print('product(5, 6, 7, 9) =', product(5, 6, 7, 9))"
   ]
  },
  {
   "cell_type": "code",
   "execution_count": 172,
   "metadata": {},
   "outputs": [
    {
     "name": "stdout",
     "output_type": "stream",
     "text": [
      "3628800\n",
      "[0, 1, 2, 3, 4, 5, 6, 7, 8, 9] [90, 91, 92, 93, 94, 95, 96, 97, 98, 99] [0, 5, 10, 15, 20, 25, 30, 35, 40, 45, 50, 55, 60, 65, 70, 75, 80, 85, 90, 95]\n",
      "hello\n",
      "hello\n",
      "hello\n",
      "hello  world\n",
      "测试成功!\n",
      "测试成功!\n",
      "汉诺塔\n",
      "A --> B\n",
      "A --> C\n",
      "B --> C\n",
      "A --> B\n",
      "C --> A\n",
      "C --> B\n",
      "A --> B\n",
      "A --> C\n",
      "B --> C\n",
      "B --> A\n",
      "C --> A\n",
      "B --> C\n",
      "A --> B\n",
      "A --> C\n",
      "B --> C\n"
     ]
    }
   ],
   "source": [
    "def factor(n):\n",
    "    if n==1:\n",
    "        return 1\n",
    "    else:\n",
    "        return n*factor(n-1)\n",
    "\n",
    "print(factor(10))\n",
    "\n",
    "L= list(range(100))\n",
    "print(L[:10], L[-10:], L[::5])\n",
    "\n",
    "def trim(s):\n",
    "    if s == '':\n",
    "        return ''\n",
    "    while s[0] is ' ' and len(s)>1:\n",
    "        s = s[1:]\n",
    "    while s[-1] is ' ' and len(s)>1:\n",
    "        s = s[:-2]\n",
    "    if s == ' ':\n",
    "        return ''\n",
    "    print (s)\n",
    "    return s\n",
    "    \n",
    "if trim('hello  ') != 'hello':\n",
    "    print('测试失败!')\n",
    "elif trim('  hello') != 'hello':\n",
    "    print('测试失败!')\n",
    "elif trim('  hello  ') != 'hello':\n",
    "    print('测试失败!')\n",
    "elif trim('  hello  world  ') != 'hello  world':\n",
    "    print('测试失败!')\n",
    "elif trim('') != '':\n",
    "    print('测试失败!')\n",
    "elif trim('    ') != '':\n",
    "    print('测试失败!')\n",
    "else:\n",
    "    print('测试成功!')\n",
    "\n",
    "def findMinAndMax(L):\n",
    "    if L == []:\n",
    "        return None,None\n",
    "    \n",
    "    else:\n",
    "        min_value = max_value = L[0]\n",
    "    for x in L:\n",
    "        if x > max_value:\n",
    "            max_value = x\n",
    "        if x < min_value:\n",
    "            min_value = x\n",
    "    return min_value, max_value\n",
    "# 测试\n",
    "if findMinAndMax([]) != (None, None):\n",
    "    print('测试失败!')\n",
    "elif findMinAndMax([7]) != (7, 7):\n",
    "    print('测试失败!')\n",
    "elif findMinAndMax([7, 1]) != (1, 7):\n",
    "    print('测试失败!')\n",
    "elif findMinAndMax([7, 1, 3, 9, 5]) != (1, 9):\n",
    "    print('测试失败!')\n",
    "else:\n",
    "    print('测试成功!')\n",
    "        \n",
    "print('汉诺塔')\n",
    "def move(n, a, b, c):\n",
    "    if n==1:\n",
    "        print(a, '-->', c)\n",
    "        return\n",
    "    move(n-1, a, c, b)\n",
    "    print (a, '-->', c)\n",
    "    move(n-1, b, a ,c)\n",
    "    return\n",
    "    \n",
    "move(4, \"A\", \"B\", \"C\")"
   ]
  },
  {
   "cell_type": "code",
   "execution_count": 184,
   "metadata": {},
   "outputs": [
    {
     "name": "stdout",
     "output_type": "stream",
     "text": [
      "[4, 16, 36, 64, 100]\n",
      "['ax', 'ay', 'az', 'bx', 'by', 'bz', 'cx', 'cy', 'cz']\n",
      "['Exercise1.ipynb', 'Untitled.ipynb', 'Exercise.ipynb', 'Exercise2.ipynb', '.ipynb_checkpoints', '.idea']\n",
      "['x=A', 'y=B', 'z=C']\n",
      "测试通过!\n"
     ]
    }
   ],
   "source": [
    "import os\n",
    "print ([x*x for x in range(1,11) if x%2 == 0])\n",
    "print ([m+n for m in 'abc' for n in 'xyz'])\n",
    "\n",
    "print ([d for d in os.listdir('.')])\n",
    "\n",
    "d = {'x': 'A', 'y': 'B', 'z': 'C' }\n",
    "\n",
    "print ([k+'='+ v for k,v in d.items()])\n",
    "\n",
    "L1 = ['Hello', 'World', 18, 'Apple', None]\n",
    "L2 = [x.lower() for x in L1 if isinstance(x, str)]\n",
    "\n",
    "if L2 == ['hello', 'world', 'apple']:\n",
    "    print('测试通过!')\n",
    "else:\n",
    "    print('测试失败!')"
   ]
  }
 ],
 "metadata": {
  "kernelspec": {
   "display_name": "Python 3",
   "language": "python",
   "name": "python3"
  },
  "language_info": {
   "codemirror_mode": {
    "name": "ipython",
    "version": 3.0
   },
   "file_extension": ".py",
   "mimetype": "text/x-python",
   "name": "python",
   "nbconvert_exporter": "python",
   "pygments_lexer": "ipython3",
   "version": "3.6.4"
  }
 },
 "nbformat": 4,
 "nbformat_minor": 0
}